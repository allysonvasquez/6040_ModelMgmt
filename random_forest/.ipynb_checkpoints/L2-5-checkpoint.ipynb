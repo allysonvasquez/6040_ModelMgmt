{
 "cells": [
  {
   "cell_type": "code",
   "execution_count": 1,
   "id": "9065704c",
   "metadata": {},
   "outputs": [],
   "source": [
    "import pandas as pd\n",
    "import numpy as np\n",
    "import seaborn as sns\n",
    "import pickle\n",
    "from sklearn.metrics import *\n",
    "from sklearn.utils import resample\n",
    "import matplotlib.pyplot as plt\n",
    "from sklearn.tree import export_graphviz\n",
    "from sklearn.ensemble import RandomForestClassifier\n",
    "from sklearn.preprocessing import MinMaxScaler\n",
    "from sklearn.preprocessing import StandardScaler, LabelEncoder, OneHotEncoder\n",
    "from sklearn.model_selection import KFold, GridSearchCV, cross_val_score, train_test_split, cross_validate"
   ]
  },
  {
   "cell_type": "markdown",
   "id": "281e524c",
   "metadata": {},
   "source": [
    "# 1. Prepare the dataset: Identify Y"
   ]
  },
  {
   "cell_type": "code",
   "execution_count": 2,
   "id": "1a9781c3",
   "metadata": {},
   "outputs": [
    {
     "data": {
      "text/html": [
       "<div>\n",
       "<style scoped>\n",
       "    .dataframe tbody tr th:only-of-type {\n",
       "        vertical-align: middle;\n",
       "    }\n",
       "\n",
       "    .dataframe tbody tr th {\n",
       "        vertical-align: top;\n",
       "    }\n",
       "\n",
       "    .dataframe thead th {\n",
       "        text-align: right;\n",
       "    }\n",
       "</style>\n",
       "<table border=\"1\" class=\"dataframe\">\n",
       "  <thead>\n",
       "    <tr style=\"text-align: right;\">\n",
       "      <th></th>\n",
       "      <th>age</th>\n",
       "      <th>job</th>\n",
       "      <th>marital</th>\n",
       "      <th>education</th>\n",
       "      <th>default</th>\n",
       "      <th>balance</th>\n",
       "      <th>housing</th>\n",
       "      <th>loan</th>\n",
       "      <th>contact</th>\n",
       "      <th>day</th>\n",
       "      <th>month</th>\n",
       "      <th>duration</th>\n",
       "      <th>campaign</th>\n",
       "      <th>pdays</th>\n",
       "      <th>previous</th>\n",
       "      <th>poutcome</th>\n",
       "      <th>y</th>\n",
       "    </tr>\n",
       "  </thead>\n",
       "  <tbody>\n",
       "    <tr>\n",
       "      <th>0</th>\n",
       "      <td>51</td>\n",
       "      <td>management</td>\n",
       "      <td>married</td>\n",
       "      <td>tertiary</td>\n",
       "      <td>no</td>\n",
       "      <td>6530</td>\n",
       "      <td>yes</td>\n",
       "      <td>no</td>\n",
       "      <td>unknown</td>\n",
       "      <td>5</td>\n",
       "      <td>may</td>\n",
       "      <td>91</td>\n",
       "      <td>1</td>\n",
       "      <td>-1</td>\n",
       "      <td>0</td>\n",
       "      <td>unknown</td>\n",
       "      <td>no</td>\n",
       "    </tr>\n",
       "    <tr>\n",
       "      <th>1</th>\n",
       "      <td>27</td>\n",
       "      <td>unemployed</td>\n",
       "      <td>married</td>\n",
       "      <td>primary</td>\n",
       "      <td>no</td>\n",
       "      <td>7459</td>\n",
       "      <td>yes</td>\n",
       "      <td>no</td>\n",
       "      <td>unknown</td>\n",
       "      <td>9</td>\n",
       "      <td>may</td>\n",
       "      <td>407</td>\n",
       "      <td>2</td>\n",
       "      <td>-1</td>\n",
       "      <td>0</td>\n",
       "      <td>unknown</td>\n",
       "      <td>no</td>\n",
       "    </tr>\n",
       "    <tr>\n",
       "      <th>2</th>\n",
       "      <td>59</td>\n",
       "      <td>management</td>\n",
       "      <td>divorced</td>\n",
       "      <td>primary</td>\n",
       "      <td>no</td>\n",
       "      <td>13308</td>\n",
       "      <td>yes</td>\n",
       "      <td>no</td>\n",
       "      <td>unknown</td>\n",
       "      <td>13</td>\n",
       "      <td>may</td>\n",
       "      <td>131</td>\n",
       "      <td>1</td>\n",
       "      <td>-1</td>\n",
       "      <td>0</td>\n",
       "      <td>unknown</td>\n",
       "      <td>no</td>\n",
       "    </tr>\n",
       "    <tr>\n",
       "      <th>3</th>\n",
       "      <td>48</td>\n",
       "      <td>technician</td>\n",
       "      <td>married</td>\n",
       "      <td>secondary</td>\n",
       "      <td>no</td>\n",
       "      <td>7373</td>\n",
       "      <td>yes</td>\n",
       "      <td>no</td>\n",
       "      <td>unknown</td>\n",
       "      <td>14</td>\n",
       "      <td>may</td>\n",
       "      <td>126</td>\n",
       "      <td>1</td>\n",
       "      <td>-1</td>\n",
       "      <td>0</td>\n",
       "      <td>unknown</td>\n",
       "      <td>no</td>\n",
       "    </tr>\n",
       "    <tr>\n",
       "      <th>4</th>\n",
       "      <td>51</td>\n",
       "      <td>blue-collar</td>\n",
       "      <td>married</td>\n",
       "      <td>secondary</td>\n",
       "      <td>no</td>\n",
       "      <td>7180</td>\n",
       "      <td>yes</td>\n",
       "      <td>no</td>\n",
       "      <td>unknown</td>\n",
       "      <td>14</td>\n",
       "      <td>may</td>\n",
       "      <td>927</td>\n",
       "      <td>1</td>\n",
       "      <td>-1</td>\n",
       "      <td>0</td>\n",
       "      <td>unknown</td>\n",
       "      <td>yes</td>\n",
       "    </tr>\n",
       "  </tbody>\n",
       "</table>\n",
       "</div>"
      ],
      "text/plain": [
       "   age          job   marital  education default  balance housing loan  \\\n",
       "0   51   management   married   tertiary      no     6530     yes   no   \n",
       "1   27   unemployed   married    primary      no     7459     yes   no   \n",
       "2   59   management  divorced    primary      no    13308     yes   no   \n",
       "3   48   technician   married  secondary      no     7373     yes   no   \n",
       "4   51  blue-collar   married  secondary      no     7180     yes   no   \n",
       "\n",
       "   contact  day month  duration  campaign  pdays  previous poutcome    y  \n",
       "0  unknown    5   may        91         1     -1         0  unknown   no  \n",
       "1  unknown    9   may       407         2     -1         0  unknown   no  \n",
       "2  unknown   13   may       131         1     -1         0  unknown   no  \n",
       "3  unknown   14   may       126         1     -1         0  unknown   no  \n",
       "4  unknown   14   may       927         1     -1         0  unknown  yes  "
      ]
     },
     "execution_count": 2,
     "metadata": {},
     "output_type": "execute_result"
    }
   ],
   "source": [
    "df = pd.read_csv('bank_marketing.csv')\n",
    "df.head()"
   ]
  },
  {
   "cell_type": "code",
   "execution_count": 3,
   "id": "07019d6e",
   "metadata": {},
   "outputs": [
    {
     "name": "stdout",
     "output_type": "stream",
     "text": [
      "<class 'pandas.core.frame.DataFrame'>\n",
      "RangeIndex: 35134 entries, 0 to 35133\n",
      "Data columns (total 17 columns):\n",
      " #   Column     Non-Null Count  Dtype \n",
      "---  ------     --------------  ----- \n",
      " 0   age        35134 non-null  int64 \n",
      " 1   job        35134 non-null  object\n",
      " 2   marital    35134 non-null  object\n",
      " 3   education  35134 non-null  object\n",
      " 4   default    35134 non-null  object\n",
      " 5   balance    35134 non-null  int64 \n",
      " 6   housing    35134 non-null  object\n",
      " 7   loan       35134 non-null  object\n",
      " 8   contact    35134 non-null  object\n",
      " 9   day        35134 non-null  int64 \n",
      " 10  month      35134 non-null  object\n",
      " 11  duration   35134 non-null  int64 \n",
      " 12  campaign   35134 non-null  int64 \n",
      " 13  pdays      35134 non-null  int64 \n",
      " 14  previous   35134 non-null  int64 \n",
      " 15  poutcome   35134 non-null  object\n",
      " 16  y          35134 non-null  object\n",
      "dtypes: int64(7), object(10)\n",
      "memory usage: 4.6+ MB\n"
     ]
    }
   ],
   "source": [
    "df.info()"
   ]
  },
  {
   "cell_type": "code",
   "execution_count": 4,
   "id": "e246907b",
   "metadata": {},
   "outputs": [
    {
     "data": {
      "text/plain": [
       "False"
      ]
     },
     "execution_count": 4,
     "metadata": {},
     "output_type": "execute_result"
    }
   ],
   "source": [
    "#no null values\n",
    "df.isnull().values.any()"
   ]
  },
  {
   "cell_type": "code",
   "execution_count": 5,
   "id": "02296100",
   "metadata": {
    "scrolled": false
   },
   "outputs": [
    {
     "name": "stdout",
     "output_type": "stream",
     "text": [
      "job : ['management' 'unemployed' 'technician' 'blue-collar' 'admin' 'services'\n",
      " 'self-employed' 'housemaid' 'unknown' 'retired' 'entrepreneur' 'student'] \n",
      "\n",
      "marital : ['married' 'divorced' 'single'] \n",
      "\n",
      "education : ['tertiary' 'primary' 'secondary' 'unknown'] \n",
      "\n",
      "default : ['no' 'yes'] \n",
      "\n",
      "housing : ['yes' 'no'] \n",
      "\n",
      "loan : ['no' 'yes'] \n",
      "\n",
      "contact : ['unknown' 'cellular' 'telephone'] \n",
      "\n",
      "month : ['may' 'jun' 'jul' 'aug' 'oct' 'nov' 'jan' 'feb' 'mar' 'apr' 'sep' 'dec'] \n",
      "\n",
      "poutcome : ['unknown' 'failure' 'other' 'success'] \n",
      "\n",
      "y : ['no' 'yes'] \n",
      "\n"
     ]
    }
   ],
   "source": [
    "#look at categorical attributes\n",
    "for col in df.select_dtypes(include='object').columns:\n",
    "    print(col,':' ,df[col].unique(), '\\n')"
   ]
  },
  {
   "cell_type": "code",
   "execution_count": 6,
   "id": "7e6c186d",
   "metadata": {},
   "outputs": [
    {
     "data": {
      "text/plain": [
       "no     31005\n",
       "yes     4129\n",
       "Name: y, dtype: int64"
      ]
     },
     "execution_count": 6,
     "metadata": {},
     "output_type": "execute_result"
    }
   ],
   "source": [
    "#look at value counts for target attribute\n",
    "df.y.value_counts()"
   ]
  },
  {
   "cell_type": "code",
   "execution_count": 7,
   "id": "ac597437",
   "metadata": {
    "scrolled": false
   },
   "outputs": [
    {
     "data": {
      "text/plain": [
       "no     0.882479\n",
       "yes    0.117521\n",
       "Name: y, dtype: float64"
      ]
     },
     "execution_count": 7,
     "metadata": {},
     "output_type": "execute_result"
    }
   ],
   "source": [
    "#class balance of target attrinnbute\n",
    "class_bal = df.y.value_counts()/df.y.count()\n",
    "class_bal"
   ]
  },
  {
   "cell_type": "code",
   "execution_count": 8,
   "id": "1752330d",
   "metadata": {
    "scrolled": true
   },
   "outputs": [
    {
     "data": {
      "text/plain": [
       "<AxesSubplot: xlabel='y', ylabel='count'>"
      ]
     },
     "execution_count": 8,
     "metadata": {},
     "output_type": "execute_result"
    },
    {
     "data": {
      "image/png": "[encoded data removed]",
      "text/plain": [
       "<Figure size 432x288 with 1 Axes>"
      ]
     },
     "metadata": {
      "needs_background": "light"
     },
     "output_type": "display_data"
    }
   ],
   "source": [
    "sns.countplot(data=df,x='y')"
   ]
  },
  {
   "cell_type": "markdown",
   "id": "ebd9ceb7",
   "metadata": {},
   "source": [
    "# 2 Select several Xs and transform them into categorical classes (aggregate the values into reasonable classes). EDA and Feature Engineering"
   ]
  },
  {
   "cell_type": "markdown",
   "id": "54ff80d3",
   "metadata": {},
   "source": [
    "Information gain provides a way to use entropy to calculate how a change to the dataset impacts the purity of the dataset, e.g. the distribution of classes. A smaller entropy suggests more purity or less surprise."
   ]
  },
  {
   "cell_type": "markdown",
   "id": "493639cf",
   "metadata": {},
   "source": [
    "https://machinelearningmastery.com/information-gain-and-mutual-information/#:~:text=Information%20gain%20is%20calculated%20by,when%20applied%20to%20variable%20selection."
   ]
  },
  {
   "cell_type": "code",
   "execution_count": 9,
   "id": "4c5c59e5",
   "metadata": {},
   "outputs": [],
   "source": [
    "#drop unnecessary attributes\n",
    "df.drop(\"pdays\",inplace=True,axis=1)"
   ]
  },
  {
   "cell_type": "code",
   "execution_count": 10,
   "id": "c2a688a5",
   "metadata": {},
   "outputs": [],
   "source": [
    "#remove outliers from remaining attributes\n",
    "df.drop(df[df['previous']>30].index,axis=0,inplace=True)\n",
    "df.drop(df[(df['balance']>40000)|(df['balance']<0)].index,inplace=True,axis=0) # negative bank balances\n",
    "df.drop(df[df['duration']>3000].index,inplace=True,axis=0) #outliers on large duration (skews data the higher the duration is)\n",
    "df.drop(df[df['campaign']>30].index,axis=0,inplace=True) #drop campaign outliers"
   ]
  },
  {
   "cell_type": "markdown",
   "id": "baa53e94",
   "metadata": {},
   "source": [
    "Label Encoding for Categorical Features\n",
    "\n",
    "We have several attributes with more than 2 categories  \n",
    "Feature engineering"
   ]
  },
  {
   "cell_type": "code",
   "execution_count": 11,
   "id": "359cdd96",
   "metadata": {},
   "outputs": [
    {
     "data": {
      "text/plain": [
       "['job',\n",
       " 'marital',\n",
       " 'education',\n",
       " 'default',\n",
       " 'housing',\n",
       " 'loan',\n",
       " 'contact',\n",
       " 'month',\n",
       " 'poutcome',\n",
       " 'y']"
      ]
     },
     "execution_count": 11,
     "metadata": {},
     "output_type": "execute_result"
    }
   ],
   "source": [
    "# Identify the categorical variables to label encode\n",
    "categorical = df.select_dtypes(include=['object']).columns.to_list()\n",
    "categorical"
   ]
  },
  {
   "cell_type": "code",
   "execution_count": 12,
   "id": "a0c53a4d",
   "metadata": {
    "scrolled": true
   },
   "outputs": [
    {
     "data": {
      "text/html": [
       "<div>\n",
       "<style scoped>\n",
       "    .dataframe tbody tr th:only-of-type {\n",
       "        vertical-align: middle;\n",
       "    }\n",
       "\n",
       "    .dataframe tbody tr th {\n",
       "        vertical-align: top;\n",
       "    }\n",
       "\n",
       "    .dataframe thead th {\n",
       "        text-align: right;\n",
       "    }\n",
       "</style>\n",
       "<table border=\"1\" class=\"dataframe\">\n",
       "  <thead>\n",
       "    <tr style=\"text-align: right;\">\n",
       "      <th></th>\n",
       "      <th>age</th>\n",
       "      <th>job</th>\n",
       "      <th>marital</th>\n",
       "      <th>education</th>\n",
       "      <th>default</th>\n",
       "      <th>balance</th>\n",
       "      <th>housing</th>\n",
       "      <th>loan</th>\n",
       "      <th>contact</th>\n",
       "      <th>day</th>\n",
       "      <th>month</th>\n",
       "      <th>duration</th>\n",
       "      <th>campaign</th>\n",
       "      <th>previous</th>\n",
       "      <th>poutcome</th>\n",
       "      <th>y</th>\n",
       "    </tr>\n",
       "  </thead>\n",
       "  <tbody>\n",
       "    <tr>\n",
       "      <th>0</th>\n",
       "      <td>51</td>\n",
       "      <td>4</td>\n",
       "      <td>1</td>\n",
       "      <td>2</td>\n",
       "      <td>0</td>\n",
       "      <td>6530</td>\n",
       "      <td>1</td>\n",
       "      <td>0</td>\n",
       "      <td>2</td>\n",
       "      <td>5</td>\n",
       "      <td>8</td>\n",
       "      <td>91</td>\n",
       "      <td>1</td>\n",
       "      <td>0</td>\n",
       "      <td>3</td>\n",
       "      <td>0</td>\n",
       "    </tr>\n",
       "    <tr>\n",
       "      <th>1</th>\n",
       "      <td>27</td>\n",
       "      <td>10</td>\n",
       "      <td>1</td>\n",
       "      <td>0</td>\n",
       "      <td>0</td>\n",
       "      <td>7459</td>\n",
       "      <td>1</td>\n",
       "      <td>0</td>\n",
       "      <td>2</td>\n",
       "      <td>9</td>\n",
       "      <td>8</td>\n",
       "      <td>407</td>\n",
       "      <td>2</td>\n",
       "      <td>0</td>\n",
       "      <td>3</td>\n",
       "      <td>0</td>\n",
       "    </tr>\n",
       "    <tr>\n",
       "      <th>2</th>\n",
       "      <td>59</td>\n",
       "      <td>4</td>\n",
       "      <td>0</td>\n",
       "      <td>0</td>\n",
       "      <td>0</td>\n",
       "      <td>13308</td>\n",
       "      <td>1</td>\n",
       "      <td>0</td>\n",
       "      <td>2</td>\n",
       "      <td>13</td>\n",
       "      <td>8</td>\n",
       "      <td>131</td>\n",
       "      <td>1</td>\n",
       "      <td>0</td>\n",
       "      <td>3</td>\n",
       "      <td>0</td>\n",
       "    </tr>\n",
       "    <tr>\n",
       "      <th>3</th>\n",
       "      <td>48</td>\n",
       "      <td>9</td>\n",
       "      <td>1</td>\n",
       "      <td>1</td>\n",
       "      <td>0</td>\n",
       "      <td>7373</td>\n",
       "      <td>1</td>\n",
       "      <td>0</td>\n",
       "      <td>2</td>\n",
       "      <td>14</td>\n",
       "      <td>8</td>\n",
       "      <td>126</td>\n",
       "      <td>1</td>\n",
       "      <td>0</td>\n",
       "      <td>3</td>\n",
       "      <td>0</td>\n",
       "    </tr>\n",
       "    <tr>\n",
       "      <th>4</th>\n",
       "      <td>51</td>\n",
       "      <td>1</td>\n",
       "      <td>1</td>\n",
       "      <td>1</td>\n",
       "      <td>0</td>\n",
       "      <td>7180</td>\n",
       "      <td>1</td>\n",
       "      <td>0</td>\n",
       "      <td>2</td>\n",
       "      <td>14</td>\n",
       "      <td>8</td>\n",
       "      <td>927</td>\n",
       "      <td>1</td>\n",
       "      <td>0</td>\n",
       "      <td>3</td>\n",
       "      <td>1</td>\n",
       "    </tr>\n",
       "    <tr>\n",
       "      <th>...</th>\n",
       "      <td>...</td>\n",
       "      <td>...</td>\n",
       "      <td>...</td>\n",
       "      <td>...</td>\n",
       "      <td>...</td>\n",
       "      <td>...</td>\n",
       "      <td>...</td>\n",
       "      <td>...</td>\n",
       "      <td>...</td>\n",
       "      <td>...</td>\n",
       "      <td>...</td>\n",
       "      <td>...</td>\n",
       "      <td>...</td>\n",
       "      <td>...</td>\n",
       "      <td>...</td>\n",
       "      <td>...</td>\n",
       "    </tr>\n",
       "    <tr>\n",
       "      <th>35129</th>\n",
       "      <td>51</td>\n",
       "      <td>9</td>\n",
       "      <td>1</td>\n",
       "      <td>2</td>\n",
       "      <td>0</td>\n",
       "      <td>825</td>\n",
       "      <td>0</td>\n",
       "      <td>0</td>\n",
       "      <td>0</td>\n",
       "      <td>17</td>\n",
       "      <td>9</td>\n",
       "      <td>977</td>\n",
       "      <td>3</td>\n",
       "      <td>0</td>\n",
       "      <td>3</td>\n",
       "      <td>1</td>\n",
       "    </tr>\n",
       "    <tr>\n",
       "      <th>35130</th>\n",
       "      <td>71</td>\n",
       "      <td>5</td>\n",
       "      <td>0</td>\n",
       "      <td>0</td>\n",
       "      <td>0</td>\n",
       "      <td>1729</td>\n",
       "      <td>0</td>\n",
       "      <td>0</td>\n",
       "      <td>0</td>\n",
       "      <td>17</td>\n",
       "      <td>9</td>\n",
       "      <td>456</td>\n",
       "      <td>2</td>\n",
       "      <td>0</td>\n",
       "      <td>3</td>\n",
       "      <td>1</td>\n",
       "    </tr>\n",
       "    <tr>\n",
       "      <th>35131</th>\n",
       "      <td>72</td>\n",
       "      <td>5</td>\n",
       "      <td>1</td>\n",
       "      <td>1</td>\n",
       "      <td>0</td>\n",
       "      <td>5715</td>\n",
       "      <td>0</td>\n",
       "      <td>0</td>\n",
       "      <td>0</td>\n",
       "      <td>17</td>\n",
       "      <td>9</td>\n",
       "      <td>1127</td>\n",
       "      <td>5</td>\n",
       "      <td>3</td>\n",
       "      <td>2</td>\n",
       "      <td>1</td>\n",
       "    </tr>\n",
       "    <tr>\n",
       "      <th>35132</th>\n",
       "      <td>57</td>\n",
       "      <td>1</td>\n",
       "      <td>1</td>\n",
       "      <td>1</td>\n",
       "      <td>0</td>\n",
       "      <td>668</td>\n",
       "      <td>0</td>\n",
       "      <td>0</td>\n",
       "      <td>1</td>\n",
       "      <td>17</td>\n",
       "      <td>9</td>\n",
       "      <td>508</td>\n",
       "      <td>4</td>\n",
       "      <td>0</td>\n",
       "      <td>3</td>\n",
       "      <td>0</td>\n",
       "    </tr>\n",
       "    <tr>\n",
       "      <th>35133</th>\n",
       "      <td>37</td>\n",
       "      <td>2</td>\n",
       "      <td>1</td>\n",
       "      <td>1</td>\n",
       "      <td>0</td>\n",
       "      <td>2971</td>\n",
       "      <td>0</td>\n",
       "      <td>0</td>\n",
       "      <td>0</td>\n",
       "      <td>17</td>\n",
       "      <td>9</td>\n",
       "      <td>361</td>\n",
       "      <td>2</td>\n",
       "      <td>11</td>\n",
       "      <td>1</td>\n",
       "      <td>0</td>\n",
       "    </tr>\n",
       "  </tbody>\n",
       "</table>\n",
       "<p>32081 rows × 16 columns</p>\n",
       "</div>"
      ],
      "text/plain": [
       "       age  job  marital  education  default  balance  housing  loan  contact  \\\n",
       "0       51    4        1          2        0     6530        1     0        2   \n",
       "1       27   10        1          0        0     7459        1     0        2   \n",
       "2       59    4        0          0        0    13308        1     0        2   \n",
       "3       48    9        1          1        0     7373        1     0        2   \n",
       "4       51    1        1          1        0     7180        1     0        2   \n",
       "...    ...  ...      ...        ...      ...      ...      ...   ...      ...   \n",
       "35129   51    9        1          2        0      825        0     0        0   \n",
       "35130   71    5        0          0        0     1729        0     0        0   \n",
       "35131   72    5        1          1        0     5715        0     0        0   \n",
       "35132   57    1        1          1        0      668        0     0        1   \n",
       "35133   37    2        1          1        0     2971        0     0        0   \n",
       "\n",
       "       day  month  duration  campaign  previous  poutcome  y  \n",
       "0        5      8        91         1         0         3  0  \n",
       "1        9      8       407         2         0         3  0  \n",
       "2       13      8       131         1         0         3  0  \n",
       "3       14      8       126         1         0         3  0  \n",
       "4       14      8       927         1         0         3  1  \n",
       "...    ...    ...       ...       ...       ...       ... ..  \n",
       "35129   17      9       977         3         0         3  1  \n",
       "35130   17      9       456         2         0         3  1  \n",
       "35131   17      9      1127         5         3         2  1  \n",
       "35132   17      9       508         4         0         3  0  \n",
       "35133   17      9       361         2        11         1  0  \n",
       "\n",
       "[32081 rows x 16 columns]"
      ]
     },
     "execution_count": 12,
     "metadata": {},
     "output_type": "execute_result"
    }
   ],
   "source": [
    "# Label Encoding is a popular encoding technique for handling categorical variables. \n",
    "# Each label is assigned a unique integer based on alphabetical ordering\n",
    "le = LabelEncoder()\n",
    "\n",
    "df.y = le.fit_transform(df.y)\n",
    "df.default = le.fit_transform(df.default)\n",
    "df.housing = le.fit_transform(df.housing)\n",
    "df.loan = le.fit_transform(df.loan)\n",
    "df.contact = le.fit_transform(df.contact)\n",
    "df.month = le.fit_transform(df.month)\n",
    "df.poutcome = le.fit_transform(df.poutcome)\n",
    "df.job = le.fit_transform(df.job)\n",
    "df.marital = le.fit_transform(df.marital)\n",
    "df.education = le.fit_transform(df.education)\n",
    "\n",
    "df"
   ]
  },
  {
   "cell_type": "code",
   "execution_count": 13,
   "id": "52195b04",
   "metadata": {
    "scrolled": true
   },
   "outputs": [],
   "source": [
    "df=df.reset_index()\n",
    "df.drop('index',axis=1,inplace=True)"
   ]
  },
  {
   "cell_type": "code",
   "execution_count": 14,
   "id": "a8060bbf",
   "metadata": {},
   "outputs": [
    {
     "data": {
      "text/plain": [
       "<AxesSubplot: xlabel='y', ylabel='count'>"
      ]
     },
     "execution_count": 14,
     "metadata": {},
     "output_type": "execute_result"
    },
    {
     "data": {
      "image/png": "[encoded data removed]",
      "text/plain": [
       "<Figure size 432x288 with 1 Axes>"
      ]
     },
     "metadata": {
      "needs_background": "light"
     },
     "output_type": "display_data"
    }
   ],
   "source": [
    "#0 is no\n",
    "#1 is yes\n",
    "sns.countplot(data=df,x='y')"
   ]
  },
  {
   "cell_type": "code",
   "execution_count": 15,
   "id": "3690e9f9",
   "metadata": {},
   "outputs": [
    {
     "data": {
      "text/plain": [
       "0    28138\n",
       "1     3943\n",
       "Name: y, dtype: int64"
      ]
     },
     "execution_count": 15,
     "metadata": {},
     "output_type": "execute_result"
    }
   ],
   "source": [
    "df.y.value_counts()"
   ]
  },
  {
   "cell_type": "code",
   "execution_count": 16,
   "id": "a50cde8f",
   "metadata": {},
   "outputs": [
    {
     "data": {
      "text/plain": [
       "<AxesSubplot: xlabel='y', ylabel='count'>"
      ]
     },
     "execution_count": 16,
     "metadata": {},
     "output_type": "execute_result"
    },
    {
     "data": {
      "image/png": "[encoded data removed]",
      "text/plain": [
       "<Figure size 432x288 with 1 Axes>"
      ]
     },
     "metadata": {
      "needs_background": "light"
     },
     "output_type": "display_data"
    }
   ],
   "source": [
    "# Separate majority and minority classes\n",
    "df_majority = df[df.y==0] #no\n",
    "df_minority = df[df.y==1] #yes\n",
    " \n",
    "# Upsample minority class\n",
    "df_minority_upsampled = resample(df_minority, \n",
    "                                 replace=True,     # sample with replacement\n",
    "                                 n_samples=28138,  # to match majority class\n",
    "                                 random_state=123) # reproducible results\n",
    " \n",
    "# Combine majority class with upsampled minority class\n",
    "df_upsampled = pd.concat([df_majority, df_minority_upsampled])\n",
    " \n",
    "# Display new class counts\n",
    "sns.countplot(data=df_upsampled,x='y')"
   ]
  },
  {
   "cell_type": "markdown",
   "id": "e38007ce",
   "metadata": {},
   "source": [
    "Data Preprocessing"
   ]
  },
  {
   "cell_type": "code",
   "execution_count": 17,
   "id": "42165c2b",
   "metadata": {},
   "outputs": [],
   "source": [
    "X = df_upsampled.drop('y', axis=1)\n",
    "y = df_upsampled['y']"
   ]
  },
  {
   "cell_type": "code",
   "execution_count": 18,
   "id": "a63c4c3b",
   "metadata": {},
   "outputs": [
    {
     "data": {
      "text/html": [
       "<div>\n",
       "<style scoped>\n",
       "    .dataframe tbody tr th:only-of-type {\n",
       "        vertical-align: middle;\n",
       "    }\n",
       "\n",
       "    .dataframe tbody tr th {\n",
       "        vertical-align: top;\n",
       "    }\n",
       "\n",
       "    .dataframe thead th {\n",
       "        text-align: right;\n",
       "    }\n",
       "</style>\n",
       "<table border=\"1\" class=\"dataframe\">\n",
       "  <thead>\n",
       "    <tr style=\"text-align: right;\">\n",
       "      <th></th>\n",
       "      <th>age</th>\n",
       "      <th>job</th>\n",
       "      <th>marital</th>\n",
       "      <th>education</th>\n",
       "      <th>default</th>\n",
       "      <th>balance</th>\n",
       "      <th>housing</th>\n",
       "      <th>loan</th>\n",
       "      <th>contact</th>\n",
       "      <th>day</th>\n",
       "      <th>month</th>\n",
       "      <th>duration</th>\n",
       "      <th>campaign</th>\n",
       "      <th>previous</th>\n",
       "      <th>poutcome</th>\n",
       "    </tr>\n",
       "  </thead>\n",
       "  <tbody>\n",
       "    <tr>\n",
       "      <th>0</th>\n",
       "      <td>51</td>\n",
       "      <td>4</td>\n",
       "      <td>1</td>\n",
       "      <td>2</td>\n",
       "      <td>0</td>\n",
       "      <td>6530</td>\n",
       "      <td>1</td>\n",
       "      <td>0</td>\n",
       "      <td>2</td>\n",
       "      <td>5</td>\n",
       "      <td>8</td>\n",
       "      <td>91</td>\n",
       "      <td>1</td>\n",
       "      <td>0</td>\n",
       "      <td>3</td>\n",
       "    </tr>\n",
       "    <tr>\n",
       "      <th>1</th>\n",
       "      <td>27</td>\n",
       "      <td>10</td>\n",
       "      <td>1</td>\n",
       "      <td>0</td>\n",
       "      <td>0</td>\n",
       "      <td>7459</td>\n",
       "      <td>1</td>\n",
       "      <td>0</td>\n",
       "      <td>2</td>\n",
       "      <td>9</td>\n",
       "      <td>8</td>\n",
       "      <td>407</td>\n",
       "      <td>2</td>\n",
       "      <td>0</td>\n",
       "      <td>3</td>\n",
       "    </tr>\n",
       "    <tr>\n",
       "      <th>2</th>\n",
       "      <td>59</td>\n",
       "      <td>4</td>\n",
       "      <td>0</td>\n",
       "      <td>0</td>\n",
       "      <td>0</td>\n",
       "      <td>13308</td>\n",
       "      <td>1</td>\n",
       "      <td>0</td>\n",
       "      <td>2</td>\n",
       "      <td>13</td>\n",
       "      <td>8</td>\n",
       "      <td>131</td>\n",
       "      <td>1</td>\n",
       "      <td>0</td>\n",
       "      <td>3</td>\n",
       "    </tr>\n",
       "    <tr>\n",
       "      <th>3</th>\n",
       "      <td>48</td>\n",
       "      <td>9</td>\n",
       "      <td>1</td>\n",
       "      <td>1</td>\n",
       "      <td>0</td>\n",
       "      <td>7373</td>\n",
       "      <td>1</td>\n",
       "      <td>0</td>\n",
       "      <td>2</td>\n",
       "      <td>14</td>\n",
       "      <td>8</td>\n",
       "      <td>126</td>\n",
       "      <td>1</td>\n",
       "      <td>0</td>\n",
       "      <td>3</td>\n",
       "    </tr>\n",
       "    <tr>\n",
       "      <th>5</th>\n",
       "      <td>48</td>\n",
       "      <td>0</td>\n",
       "      <td>1</td>\n",
       "      <td>1</td>\n",
       "      <td>0</td>\n",
       "      <td>6532</td>\n",
       "      <td>1</td>\n",
       "      <td>0</td>\n",
       "      <td>2</td>\n",
       "      <td>14</td>\n",
       "      <td>8</td>\n",
       "      <td>312</td>\n",
       "      <td>5</td>\n",
       "      <td>0</td>\n",
       "      <td>3</td>\n",
       "    </tr>\n",
       "  </tbody>\n",
       "</table>\n",
       "</div>"
      ],
      "text/plain": [
       "   age  job  marital  education  default  balance  housing  loan  contact  \\\n",
       "0   51    4        1          2        0     6530        1     0        2   \n",
       "1   27   10        1          0        0     7459        1     0        2   \n",
       "2   59    4        0          0        0    13308        1     0        2   \n",
       "3   48    9        1          1        0     7373        1     0        2   \n",
       "5   48    0        1          1        0     6532        1     0        2   \n",
       "\n",
       "   day  month  duration  campaign  previous  poutcome  \n",
       "0    5      8        91         1         0         3  \n",
       "1    9      8       407         2         0         3  \n",
       "2   13      8       131         1         0         3  \n",
       "3   14      8       126         1         0         3  \n",
       "5   14      8       312         5         0         3  "
      ]
     },
     "execution_count": 18,
     "metadata": {},
     "output_type": "execute_result"
    }
   ],
   "source": [
    "X.head()"
   ]
  },
  {
   "cell_type": "code",
   "execution_count": 19,
   "id": "6ca9214b",
   "metadata": {},
   "outputs": [
    {
     "data": {
      "text/plain": [
       "0        0\n",
       "1        0\n",
       "2        0\n",
       "3        0\n",
       "5        0\n",
       "        ..\n",
       "11011    1\n",
       "29766    1\n",
       "21861    1\n",
       "2790     1\n",
       "29826    1\n",
       "Name: y, Length: 56276, dtype: int64"
      ]
     },
     "execution_count": 19,
     "metadata": {},
     "output_type": "execute_result"
    }
   ],
   "source": [
    "y"
   ]
  },
  {
   "cell_type": "code",
   "execution_count": 20,
   "id": "5d4e62af",
   "metadata": {},
   "outputs": [
    {
     "name": "stdout",
     "output_type": "stream",
     "text": [
      "Original: (32081, 16) \n",
      "X Train: (45020, 15) \n",
      "X Test: (11256, 15) \n",
      " \n",
      "y Train: (45020,) \n",
      "y Test: (11256,)\n"
     ]
    }
   ],
   "source": [
    "X_train, X_test, y_train, y_test = train_test_split(X,\n",
    "                                                    y, \n",
    "                                                    test_size=0.2, \n",
    "                                                    random_state=5)\n",
    "\n",
    "# Report spliting rows \n",
    "print(\"Original:\", df.shape,\n",
    "      \"\\nX Train:\",X_train.shape,\n",
    "      \"\\nX Test:\", X_test.shape,\n",
    "      \"\\n\",\n",
    "      \"\\ny Train:\", y_train.shape,\n",
    "      \"\\ny Test:\", y_test.shape)"
   ]
  },
  {
   "cell_type": "code",
   "execution_count": 21,
   "id": "418c2aae",
   "metadata": {},
   "outputs": [],
   "source": [
    "# The data has a different range of numerics so we will normalize by using Scaler() from SKLearn\n",
    "scaler = StandardScaler()\n",
    "X_train = scaler.fit_transform(X_train)\n",
    "X_test = scaler.fit_transform(X_test)"
   ]
  },
  {
   "cell_type": "code",
   "execution_count": 22,
   "id": "640f13bd",
   "metadata": {},
   "outputs": [
    {
     "name": "stdout",
     "output_type": "stream",
     "text": [
      "Mean:\n",
      " [-0.  0. -0. -0.  0.  0. -0.  0. -0.  0. -0.  0. -0.  0. -0.] \n",
      "Standard Deviation:\n",
      " [1. 1. 1. 1. 1. 1. 1. 1. 1. 1. 1. 1. 1. 1. 1.]\n"
     ]
    }
   ],
   "source": [
    "# using scaler make all columns' Average = 0 and standard Deviation = 1\n",
    "print(\"Mean:\\n\",\n",
    "      np.round(np.mean(X_train,axis=0),1),\n",
    "      \"\\nStandard Deviation:\\n\",\n",
    "      np.round(np.std(X_train,axis=0),1))"
   ]
  },
  {
   "cell_type": "code",
   "execution_count": 23,
   "id": "0f5c5994",
   "metadata": {
    "scrolled": true
   },
   "outputs": [
    {
     "data": {
      "text/html": [
       "<style>#sk-container-id-1 {color: black;background-color: white;}#sk-container-id-1 pre{padding: 0;}#sk-container-id-1 div.sk-toggleable {background-color: white;}#sk-container-id-1 label.sk-toggleable__label {cursor: pointer;display: block;width: 100%;margin-bottom: 0;padding: 0.3em;box-sizing: border-box;text-align: center;}#sk-container-id-1 label.sk-toggleable__label-arrow:before {content: \"▸\";float: left;margin-right: 0.25em;color: #696969;}#sk-container-id-1 label.sk-toggleable__label-arrow:hover:before {color: black;}#sk-container-id-1 div.sk-estimator:hover label.sk-toggleable__label-arrow:before {color: black;}#sk-container-id-1 div.sk-toggleable__content {max-height: 0;max-width: 0;overflow: hidden;text-align: left;background-color: #f0f8ff;}#sk-container-id-1 div.sk-toggleable__content pre {margin: 0.2em;color: black;border-radius: 0.25em;background-color: #f0f8ff;}#sk-container-id-1 input.sk-toggleable__control:checked~div.sk-toggleable__content {max-height: 200px;max-width: 100%;overflow: auto;}#sk-container-id-1 input.sk-toggleable__control:checked~label.sk-toggleable__label-arrow:before {content: \"▾\";}#sk-container-id-1 div.sk-estimator input.sk-toggleable__control:checked~label.sk-toggleable__label {background-color: #d4ebff;}#sk-container-id-1 div.sk-label input.sk-toggleable__control:checked~label.sk-toggleable__label {background-color: #d4ebff;}#sk-container-id-1 input.sk-hidden--visually {border: 0;clip: rect(1px 1px 1px 1px);clip: rect(1px, 1px, 1px, 1px);height: 1px;margin: -1px;overflow: hidden;padding: 0;position: absolute;width: 1px;}#sk-container-id-1 div.sk-estimator {font-family: monospace;background-color: #f0f8ff;border: 1px dotted black;border-radius: 0.25em;box-sizing: border-box;margin-bottom: 0.5em;}#sk-container-id-1 div.sk-estimator:hover {background-color: #d4ebff;}#sk-container-id-1 div.sk-parallel-item::after {content: \"\";width: 100%;border-bottom: 1px solid gray;flex-grow: 1;}#sk-container-id-1 div.sk-label:hover label.sk-toggleable__label {background-color: #d4ebff;}#sk-container-id-1 div.sk-serial::before {content: \"\";position: absolute;border-left: 1px solid gray;box-sizing: border-box;top: 0;bottom: 0;left: 50%;z-index: 0;}#sk-container-id-1 div.sk-serial {display: flex;flex-direction: column;align-items: center;background-color: white;padding-right: 0.2em;padding-left: 0.2em;position: relative;}#sk-container-id-1 div.sk-item {position: relative;z-index: 1;}#sk-container-id-1 div.sk-parallel {display: flex;align-items: stretch;justify-content: center;background-color: white;position: relative;}#sk-container-id-1 div.sk-item::before, #sk-container-id-1 div.sk-parallel-item::before {content: \"\";position: absolute;border-left: 1px solid gray;box-sizing: border-box;top: 0;bottom: 0;left: 50%;z-index: -1;}#sk-container-id-1 div.sk-parallel-item {display: flex;flex-direction: column;z-index: 1;position: relative;background-color: white;}#sk-container-id-1 div.sk-parallel-item:first-child::after {align-self: flex-end;width: 50%;}#sk-container-id-1 div.sk-parallel-item:last-child::after {align-self: flex-start;width: 50%;}#sk-container-id-1 div.sk-parallel-item:only-child::after {width: 0;}#sk-container-id-1 div.sk-dashed-wrapped {border: 1px dashed gray;margin: 0 0.4em 0.5em 0.4em;box-sizing: border-box;padding-bottom: 0.4em;background-color: white;}#sk-container-id-1 div.sk-label label {font-family: monospace;font-weight: bold;display: inline-block;line-height: 1.2em;}#sk-container-id-1 div.sk-label-container {text-align: center;}#sk-container-id-1 div.sk-container {/* jupyter's `normalize.less` sets `[hidden] { display: none; }` but bootstrap.min.css set `[hidden] { display: none !important; }` so we also need the `!important` here to be able to override the default hidden behavior on the sphinx rendered scikit-learn.org. See: https://github.com/scikit-learn/scikit-learn/issues/21755 */display: inline-block !important;position: relative;}#sk-container-id-1 div.sk-text-repr-fallback {display: none;}</style><div id=\"sk-container-id-1\" class=\"sk-top-container\"><div class=\"sk-text-repr-fallback\"><pre>RandomForestClassifier(n_estimators=15, random_state=5)</pre><b>In a Jupyter environment, please rerun this cell to show the HTML representation or trust the notebook. <br />On GitHub, the HTML representation is unable to render, please try loading this page with nbviewer.org.</b></div><div class=\"sk-container\" hidden><div class=\"sk-item\"><div class=\"sk-estimator sk-toggleable\"><input class=\"sk-toggleable__control sk-hidden--visually\" id=\"sk-estimator-id-1\" type=\"checkbox\" checked><label for=\"sk-estimator-id-1\" class=\"sk-toggleable__label sk-toggleable__label-arrow\">RandomForestClassifier</label><div class=\"sk-toggleable__content\"><pre>RandomForestClassifier(n_estimators=15, random_state=5)</pre></div></div></div></div></div>"
      ],
      "text/plain": [
       "RandomForestClassifier(n_estimators=15, random_state=5)"
      ]
     },
     "execution_count": 23,
     "metadata": {},
     "output_type": "execute_result"
    }
   ],
   "source": [
    "rfc = RandomForestClassifier(n_estimators= 15, random_state=5)\n",
    "rfc.fit(X_train, y_train)"
   ]
  },
  {
   "cell_type": "code",
   "execution_count": 24,
   "id": "4840b48e",
   "metadata": {},
   "outputs": [],
   "source": [
    "rand_scores = cross_val_score(rfc, X_train, y_train)\n",
    "rand_mean = rand_scores.mean()"
   ]
  },
  {
   "cell_type": "code",
   "execution_count": 25,
   "id": "dd89ecc3",
   "metadata": {},
   "outputs": [],
   "source": [
    "y_pred = rfc.predict(X_test)"
   ]
  },
  {
   "cell_type": "code",
   "execution_count": 26,
   "id": "3de49c6a",
   "metadata": {},
   "outputs": [
    {
     "name": "stdout",
     "output_type": "stream",
     "text": [
      "Report:\n",
      "               precision    recall  f1-score   support\n",
      "\n",
      "           0       1.00      0.93      0.96      5630\n",
      "           1       0.93      1.00      0.96      5626\n",
      "\n",
      "    accuracy                           0.96     11256\n",
      "   macro avg       0.97      0.96      0.96     11256\n",
      "weighted avg       0.97      0.96      0.96     11256\n",
      "\n",
      "F1 Score: 0.9642119752236752\n",
      "confusion Matrix:\n",
      " [[5236   22]\n",
      " [ 394 5604]]\n",
      "cross validation: [0.92004264 0.8964016  0.88342959 0.78480675 0.71879165]\n"
     ]
    }
   ],
   "source": [
    "print('Report:\\n',classification_report(y_test, y_pred))\n",
    "print(\"F1 Score:\",f1_score(y_pred,y_test))\n",
    "print('confusion Matrix:\\n',confusion_matrix(y_pred,y_test))\n",
    "print('cross validation:',cross_val_score(rfc, X, y, cv=5))"
   ]
  },
  {
   "cell_type": "code",
   "execution_count": 27,
   "id": "93abfcb4",
   "metadata": {},
   "outputs": [
    {
     "name": "stdout",
     "output_type": "stream",
     "text": [
      "              precision    recall  f1-score   support\n",
      "\n",
      "           0       1.00      0.93      0.96      5630\n",
      "           1       0.93      1.00      0.96      5626\n",
      "\n",
      "    accuracy                           0.96     11256\n",
      "   macro avg       0.97      0.96      0.96     11256\n",
      "weighted avg       0.97      0.96      0.96     11256\n",
      "\n"
     ]
    }
   ],
   "source": [
    "print(classification_report(y_test,rfc.predict(X_test)))"
   ]
  },
  {
   "cell_type": "code",
   "execution_count": 28,
   "id": "afc6ed4f",
   "metadata": {
    "scrolled": true
   },
   "outputs": [
    {
     "data": {
      "text/html": [
       "<div>\n",
       "<style scoped>\n",
       "    .dataframe tbody tr th:only-of-type {\n",
       "        vertical-align: middle;\n",
       "    }\n",
       "\n",
       "    .dataframe tbody tr th {\n",
       "        vertical-align: top;\n",
       "    }\n",
       "\n",
       "    .dataframe thead th {\n",
       "        text-align: right;\n",
       "    }\n",
       "</style>\n",
       "<table border=\"1\" class=\"dataframe\">\n",
       "  <thead>\n",
       "    <tr style=\"text-align: right;\">\n",
       "      <th>col_0</th>\n",
       "      <th>0</th>\n",
       "      <th>1</th>\n",
       "    </tr>\n",
       "    <tr>\n",
       "      <th>y</th>\n",
       "      <th></th>\n",
       "      <th></th>\n",
       "    </tr>\n",
       "  </thead>\n",
       "  <tbody>\n",
       "    <tr>\n",
       "      <th>0</th>\n",
       "      <td>5236</td>\n",
       "      <td>394</td>\n",
       "    </tr>\n",
       "    <tr>\n",
       "      <th>1</th>\n",
       "      <td>22</td>\n",
       "      <td>5604</td>\n",
       "    </tr>\n",
       "  </tbody>\n",
       "</table>\n",
       "</div>"
      ],
      "text/plain": [
       "col_0     0     1\n",
       "y                \n",
       "0      5236   394\n",
       "1        22  5604"
      ]
     },
     "execution_count": 28,
     "metadata": {},
     "output_type": "execute_result"
    }
   ],
   "source": [
    "pd.crosstab(y_test,rfc.predict(X_test))"
   ]
  },
  {
   "cell_type": "code",
   "execution_count": 29,
   "id": "25064363",
   "metadata": {},
   "outputs": [
    {
     "data": {
      "text/plain": [
       "(-1.0, 15.0)"
      ]
     },
     "execution_count": 29,
     "metadata": {},
     "output_type": "execute_result"
    },
    {
     "data": {
      "image/png": "[encoded data removed]",
      "text/plain": [
       "<Figure size 720x720 with 1 Axes>"
      ]
     },
     "metadata": {
      "needs_background": "light"
     },
     "output_type": "display_data"
    }
   ],
   "source": [
    "# We noticed that Duration has the highest feature importnace of Random Forest model and its about 26% and all other features fall into lower than 10% important\n",
    "plt.figure(figsize=(10,10))\n",
    "nfeat=X.shape[1]\n",
    "plt.barh(np.arange(nfeat),rfc.feature_importances_,align='center')\n",
    "plt.yticks(np.arange(nfeat),list(X.columns))\n",
    "plt.ylim(-1,nfeat)"
   ]
  },
  {
   "cell_type": "code",
   "execution_count": 30,
   "id": "72272c87",
   "metadata": {
    "scrolled": true
   },
   "outputs": [
    {
     "data": {
      "image/png": "[encoded data removed]",
      "text/plain": [
       "<Figure size 432x288 with 1 Axes>"
      ]
     },
     "metadata": {
      "needs_background": "light"
     },
     "output_type": "display_data"
    }
   ],
   "source": [
    "importances=rfc.feature_importances_\n",
    "feature_importances=pd.Series(importances, index=X.columns).sort_values(ascending=False)\n",
    "sns.barplot(x=feature_importances, y=feature_importances.index)\n",
    "plt.title('Feature Importance', size=20)\n",
    "plt.ylabel(\"Features\")\n",
    "plt.show()"
   ]
  },
  {
   "cell_type": "code",
   "execution_count": 31,
   "id": "cb97fa03",
   "metadata": {},
   "outputs": [
    {
     "name": "stdout",
     "output_type": "stream",
     "text": [
      "[0.02141766 0.0080909  0.00761157 0.00879066 0.         0.00351332\n",
      " 0.02714574 0.01014753 0.03186393 0.00328246 0.03043625 0.10681586\n",
      " 0.00691265 0.0155237  0.05288933]\n"
     ]
    }
   ],
   "source": [
    "from sklearn.feature_selection import mutual_info_classif as MIC\n",
    "mi_score = MIC(X,y)\n",
    "print(mi_score)"
   ]
  },
  {
   "cell_type": "code",
   "execution_count": 32,
   "id": "076bb1f0",
   "metadata": {},
   "outputs": [
    {
     "data": {
      "text/plain": [
       "[0, 1]"
      ]
     },
     "execution_count": 32,
     "metadata": {},
     "output_type": "execute_result"
    }
   ],
   "source": [
    "list(rfc.classes_)"
   ]
  },
  {
   "cell_type": "code",
   "execution_count": 33,
   "id": "442c9268",
   "metadata": {},
   "outputs": [
    {
     "name": "stdout",
     "output_type": "stream",
     "text": [
      "score_4:0.9144928566351553\n"
     ]
    }
   ],
   "source": [
    "from sklearn.feature_selection import SelectPercentile as SP\n",
    "selector = SP(percentile=50) # select features with top 50% MI scores\n",
    "selector.fit(X,y)\n",
    "X_4 = selector.transform(X)\n",
    "X_train_4,X_test_4,y_train,y_test = train_test_split(\n",
    "    X_4,y\n",
    "    ,random_state=0\n",
    "    ,stratify=y\n",
    ")\n",
    "model_4 = RandomForestClassifier().fit(X_train_4,y_train)\n",
    "score_4 = model_4.score(X_test_4,y_test)\n",
    "print(f\"score_4:{score_4}\")"
   ]
  },
  {
   "cell_type": "code",
   "execution_count": null,
   "id": "2e574292",
   "metadata": {},
   "outputs": [],
   "source": []
  },
  {
   "cell_type": "code",
   "execution_count": 34,
   "id": "e4f84568",
   "metadata": {},
   "outputs": [],
   "source": [
    "def ig(class_, feature):\n",
    "  classes = set(class_)\n",
    "\n",
    "  Hc = 0\n",
    "  for c in classes:\n",
    "    pc = list(class_).count(c)/len(class_)\n",
    "    Hc += - pc * math.log(pc, 2)\n",
    "  print('Overall Entropy:', Hc)\n",
    "  feature_values = set(feature)\n",
    "\n",
    "  Hc_feature = 0\n",
    "  for feat in feature_values:\n",
    "\n",
    "    pf = list(feature).count(feat)/len(feature)\n",
    "    indices = [i for i in range(len(feature)) if feature[i] == feat]\n",
    "    clasess_of_feat = [class_[i] for i in indices]\n",
    "    for c in classes:\n",
    "        pcf = clasess_of_feat.count(c)/len(clasess_of_feat)\n",
    "        if pcf != 0:\n",
    "            temp_H = - pf * pcf * math.log(pcf, 2)\n",
    "            Hc_feature += temp_H\n",
    "  ig = Hc - Hc_feature\n",
    "  return ig    \n",
    "\n",
    "\n"
   ]
  },
  {
   "cell_type": "markdown",
   "id": "2d2e1789",
   "metadata": {},
   "source": [
    "3) Your job is to create TWO trees: \n",
    "- one with selecting the next X variable (at each level) with mutual information\n",
    "- another with the standard mutual information."
   ]
  },
  {
   "cell_type": "markdown",
   "id": "c66354a3",
   "metadata": {},
   "source": [
    "4) Compare the performances of the two trees and see if one is better."
   ]
  },
  {
   "cell_type": "markdown",
   "id": "3431711d",
   "metadata": {},
   "source": [
    "5) Obviously you need to program 2 Python functions that may be called to calculate either mutual information or the standard mutual information as needed. You would have to call one of them at every level to split the tree further."
   ]
  },
  {
   "cell_type": "markdown",
   "id": "d064e1cc",
   "metadata": {},
   "source": [
    "6) In my opinion, once a tree is done, a forrest is easily created and the performance the forest may be evaluated comparatively with the others. But if you find it difficult, you may only do a simple tree."
   ]
  },
  {
   "cell_type": "markdown",
   "id": "b110ab23",
   "metadata": {},
   "source": [
    "7) An alternative approach would be to \n",
    "- (a) choose a package of random forest, which by default uses mutual information to select X variables at each tree node\n",
    "- (b) swap out the mutual information by the (your own function of the standard mutual information).\n",
    "- This way you would have 2 forests and then you can compare them."
   ]
  },
  {
   "cell_type": "code",
   "execution_count": null,
   "id": "920257cb",
   "metadata": {},
   "outputs": [],
   "source": []
  }
 ],
 "metadata": {
  "kernelspec": {
   "display_name": "Python 3 (ipykernel)",
   "language": "python",
   "name": "python3"
  },
  "language_info": {
   "codemirror_mode": {
    "name": "ipython",
    "version": 3
   },
   "file_extension": ".py",
   "mimetype": "text/x-python",
   "name": "python",
   "nbconvert_exporter": "python",
   "pygments_lexer": "ipython3",
   "version": "3.8.10"
  },
  "vscode": {
   "interpreter": {
    "hash": "aee8b7b246df8f9039afb4144a1f6fd8d2ca17a180786b69acc140d282b71a49"
   }
  }
 },
 "nbformat": 4,
 "nbformat_minor": 5
}
